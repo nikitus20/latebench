{
 "cells": [
  {
   "cell_type": "markdown",
   "metadata": {},
   "source": [
    "# LateBench: Adversarial Error Generation Examples\n",
    "\n",
    "This notebook demonstrates how to use the LateBench system to generate adversarial examples with late reasoning errors."
   ]
  },
  {
   "cell_type": "code",
   "execution_count": null,
   "metadata": {},
   "outputs": [],
   "source": [
    "# Setup\n",
    "import sys\n",
    "sys.path.append('../src')\n",
    "\n",
    "import os\n",
    "import json\n",
    "from data_loader import NuminaMathDataLoader\n",
    "from error_injector import AdversarialErrorInjector\n",
    "from error_types import MATH_ERROR_TAXONOMY\n",
    "from visualization import VISUALIZER\n",
    "\n",
    "# Load environment variables\n",
    "from dotenv import load_dotenv\n",
    "load_dotenv('../.env')\n",
    "\n",
    "print(\"Setup complete!\")"
   ]
  },
  {
   "cell_type": "markdown",
   "metadata": {},
   "source": [
    "## 1. Load and Explore Dataset"
   ]
  },
  {
   "cell_type": "code",
   "execution_count": null,
   "metadata": {},
   "outputs": [],
   "source": [
    "# Initialize data loader\n",
    "loader = NuminaMathDataLoader(cache_dir=\"../data\")\n",
    "\n",
    "# Load dataset (will use cached version if available)\n",
    "dataset = loader.download_dataset()\n",
    "print(f\"Dataset loaded successfully!\")"
   ]
  },
  {
   "cell_type": "code",
   "execution_count": null,
   "metadata": {},
   "outputs": [],
   "source": [
    "# Get sample examples for experimentation\n",
    "sample_examples = loader.get_sample_examples(n=5, min_steps=8)\n",
    "\n",
    "print(f\"Got {len(sample_examples)} sample examples\")\n",
    "print(f\"Step counts: {[ex['num_steps'] for ex in sample_examples]}\")\n",
    "\n",
    "# Show first example\n",
    "if sample_examples:\n",
    "    example = sample_examples[0]\n",
    "    print(f\"\\nFirst example:\")\n",
    "    print(f\"Problem: {example.get('problem', 'No problem')[:200]}...\")\n",
    "    print(f\"Steps: {example['num_steps']}\")\n",
    "    print(f\"Answer: {example.get('answer', 'No answer')}\")"
   ]
  },
  {
   "cell_type": "markdown",
   "metadata": {},
   "source": [
    "## 2. Explore Error Taxonomy"
   ]
  },
  {
   "cell_type": "code",
   "execution_count": null,
   "metadata": {},
   "outputs": [],
   "source": [
    "# Explore available error types\n",
    "error_stats = MATH_ERROR_TAXONOMY.get_error_statistics()\n",
    "print(\"Error Taxonomy Statistics:\")\n",
    "for key, value in error_stats.items():\n",
    "    print(f\"  {key}: {value}\")\n",
    "\n",
    "print(f\"\\nAvailable error types:\")\n",
    "for name in MATH_ERROR_TAXONOMY.get_all_error_names():\n",
    "    error_type = MATH_ERROR_TAXONOMY.get_error_by_name(name)\n",
    "    print(f\"  - {name}: {error_type.description}\")"
   ]
  },
  {
   "cell_type": "markdown",
   "metadata": {},
   "source": [
    "## 3. Generate Single Adversarial Example"
   ]
  },
  {
   "cell_type": "code",
   "execution_count": null,
   "metadata": {},
   "outputs": [],
   "source": [
    "# Initialize error injector\n",
    "injector = AdversarialErrorInjector()\n",
    "print(\"Error injector initialized\")\n",
    "\n",
    "# Select a problem to work with\n",
    "if sample_examples:\n",
    "    test_problem = sample_examples[0]\n",
    "    print(f\"Using problem with {test_problem['num_steps']} steps\")\n",
    "else:\n",
    "    print(\"No sample examples available\")"
   ]
  },
  {
   "cell_type": "code",
   "execution_count": null,
   "metadata": {},
   "outputs": [],
   "source": [
    "# Inject an error (this will call OpenAI API)\n",
    "if 'test_problem' in locals():\n",
    "    print(\"Injecting error... (this may take a moment)\")\n",
    "    \n",
    "    # Try injecting a specific error type\n",
    "    result = injector.inject_error(\n",
    "        test_problem, \n",
    "        error_type_preference=\"invalid_generalization\"\n",
    "    )\n",
    "    \n",
    "    if result.success:\n",
    "        print(\"✓ Error injection successful!\")\n",
    "        print(f\"Error type: {result.error_analysis.get('error_type', 'Unknown')}\")\n",
    "        print(f\"Error step: {result.error_analysis.get('selected_error_step', 'Unknown')}\")\n",
    "    else:\n",
    "        print(f\"✗ Error injection failed: {result.error_message}\")\n",
    "else:\n",
    "    print(\"No test problem available\")"
   ]
  },
  {
   "cell_type": "markdown",
   "metadata": {},
   "source": [
    "## 4. Visualize the Result"
   ]
  },
  {
   "cell_type": "code",
   "execution_count": null,
   "metadata": {},
   "outputs": [],
   "source": [
    "# Create text visualization\n",
    "if 'result' in locals() and result.success:\n",
    "    visualization = VISUALIZER.create_example_visualization(result)\n",
    "    print(visualization[:2000])  # Show first 2000 characters\n",
    "    \n",
    "    # Save full visualization\n",
    "    with open('../data/example_visualization.md', 'w') as f:\n",
    "        f.write(visualization)\n",
    "    print(\"\\nFull visualization saved to ../data/example_visualization.md\")\n",
    "else:\n",
    "    print(\"No successful result to visualize\")"
   ]
  },
  {
   "cell_type": "markdown",
   "metadata": {},
   "source": [
    "## 5. Generate Multiple Examples"
   ]
  },
  {
   "cell_type": "code",
   "execution_count": null,
   "metadata": {},
   "outputs": [],
   "source": [
    "# Generate a small batch for demonstration\n",
    "if len(sample_examples) >= 3:\n",
    "    print(\"Generating batch of 3 examples...\")\n",
    "    \n",
    "    # Use different error types for variety\n",
    "    error_distribution = {\n",
    "        \"invalid_generalization\": 0.4,\n",
    "        \"theorem_misapplication\": 0.3,\n",
    "        \"circular_reasoning\": 0.3\n",
    "    }\n",
    "    \n",
    "    batch_results = injector.batch_inject_errors(\n",
    "        sample_examples[:3], \n",
    "        error_distribution=error_distribution,\n",
    "        save_checkpoints=True\n",
    "    )\n",
    "    \n",
    "    print(f\"\\nBatch complete!\")\n",
    "    successful = sum(1 for r in batch_results if r.success)\n",
    "    print(f\"Success rate: {successful}/{len(batch_results)}\")\n",
    "    \n",
    "    # Save results\n",
    "    injector.save_results(batch_results, '../data/demo_batch_results.json')\n",
    "    \n",
    "else:\n",
    "    print(\"Need at least 3 sample examples for batch demo\")"
   ]
  },
  {
   "cell_type": "markdown",
   "metadata": {},
   "source": [
    "## 6. Analysis and Visualization"
   ]
  },
  {
   "cell_type": "code",
   "execution_count": null,
   "metadata": {},
   "outputs": [],
   "source": [
    "# Analyze batch results if available\n",
    "if 'batch_results' in locals():\n",
    "    # Generate quality metrics\n",
    "    metrics = VISUALIZER.create_quality_metrics_report(batch_results)\n",
    "    \n",
    "    print(\"Quality Metrics:\")\n",
    "    print(json.dumps(metrics, indent=2))\n",
    "    \n",
    "    # Create statistical plots\n",
    "    try:\n",
    "        fig = VISUALIZER.create_batch_statistics_plot(batch_results, \n",
    "                                                    save_path='../data/demo_statistics.png')\n",
    "        print(\"\\nStatistics plot created\")\n",
    "    except Exception as e:\n",
    "        print(f\"Error creating plot: {e}\")\n",
    "    \n",
    "    # Generate HTML report\n",
    "    VISUALIZER.save_html_report(batch_results, '../data/demo_report.html', max_examples=3)\n",
    "    print(\"HTML report generated\")\n",
    "    \n",
    "else:\n",
    "    print(\"No batch results available for analysis\")"
   ]
  },
  {
   "cell_type": "markdown",
   "metadata": {},
   "source": [
    "## 7. Next Steps\n",
    "\n",
    "This notebook demonstrated:\n",
    "1. Loading the NuminaMath dataset\n",
    "2. Exploring the error taxonomy\n",
    "3. Generating adversarial examples with late reasoning errors\n",
    "4. Visualizing and analyzing the results\n",
    "\n",
    "For production use:\n",
    "- Use `loader.filter_long_solutions()` to get all suitable problems\n",
    "- Run `injector.batch_inject_errors()` on larger datasets\n",
    "- Experiment with different error type distributions\n",
    "- Use the generated examples to test reasoning critics and process reward models"
   ]
  }
 ],
 "metadata": {
  "kernelspec": {
   "display_name": "Python 3",
   "language": "python",
   "name": "python3"
  },
  "language_info": {
   "codemirror_mode": {
    "name": "ipython",
    "version": 3
   },
   "file_extension": ".py",
   "mimetype": "text/x-python",
   "name": "python",
   "nbconvert_exporter": "python",
   "pygments_lexer": "ipython3",
   "version": "3.11.0"
  }
 },
 "nbformat": 4,
 "nbformat_minor": 4
}